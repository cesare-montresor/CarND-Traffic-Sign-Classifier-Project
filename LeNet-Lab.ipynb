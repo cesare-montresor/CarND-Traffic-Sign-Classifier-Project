{
 "cells": [
  {
   "cell_type": "markdown",
   "metadata": {},
   "source": [
    "# LeNet Lab\n",
    "![LeNet Architecture](lenet.png)\n",
    "Source: Yan LeCun"
   ]
  },
  {
   "cell_type": "markdown",
   "metadata": {},
   "source": [
    "## Load Data\n",
    "\n",
    "Load the MNIST data, which comes pre-loaded with TensorFlow.\n",
    "\n",
    "You do not need to modify this section."
   ]
  },
  {
   "cell_type": "code",
   "execution_count": 11,
   "metadata": {
    "collapsed": false
   },
   "outputs": [
    {
     "name": "stdout",
     "output_type": "stream",
     "text": [
      "Extracting MNIST_data/train-images-idx3-ubyte.gz\n",
      "Extracting MNIST_data/train-labels-idx1-ubyte.gz\n",
      "Extracting MNIST_data/t10k-images-idx3-ubyte.gz\n",
      "Extracting MNIST_data/t10k-labels-idx1-ubyte.gz\n",
      "\n",
      "Image Shape: (28, 28, 1)\n",
      "\n",
      "Training Set:   55000 samples\n",
      "Validation Set: 5000 samples\n",
      "Test Set:       10000 samples\n"
     ]
    }
   ],
   "source": [
    "from tensorflow.examples.tutorials.mnist import input_data\n",
    "\n",
    "mnist = input_data.read_data_sets(\"MNIST_data/\", reshape=False)\n",
    "X_train, y_train           = mnist.train.images, mnist.train.labels\n",
    "X_validation, y_validation = mnist.validation.images, mnist.validation.labels\n",
    "X_test, y_test             = mnist.test.images, mnist.test.labels\n",
    "\n",
    "assert(len(X_train) == len(y_train))\n",
    "assert(len(X_validation) == len(y_validation))\n",
    "assert(len(X_test) == len(y_test))\n",
    "\n",
    "print()\n",
    "print(\"Image Shape: {}\".format(X_train[0].shape))\n",
    "print()\n",
    "print(\"Training Set:   {} samples\".format(len(X_train)))\n",
    "print(\"Validation Set: {} samples\".format(len(X_validation)))\n",
    "print(\"Test Set:       {} samples\".format(len(X_test)))"
   ]
  },
  {
   "cell_type": "markdown",
   "metadata": {},
   "source": [
    "The MNIST data that TensorFlow pre-loads comes as 28x28x1 images.\n",
    "\n",
    "However, the LeNet architecture only accepts 32x32xC images, where C is the number of color channels.\n",
    "\n",
    "In order to reformat the MNIST data into a shape that LeNet will accept, we pad the data with two rows of zeros on the top and bottom, and two columns of zeros on the left and right (28+2+2 = 32).\n",
    "\n",
    "You do not need to modify this section."
   ]
  },
  {
   "cell_type": "code",
   "execution_count": 12,
   "metadata": {
    "collapsed": false
   },
   "outputs": [
    {
     "name": "stdout",
     "output_type": "stream",
     "text": [
      "Updated Image Shape: (32, 32, 1)\n"
     ]
    }
   ],
   "source": [
    "import numpy as np\n",
    "\n",
    "# Pad images with 0s\n",
    "X_train      = np.pad(X_train, ((0,0),(2,2),(2,2),(0,0)), 'constant')\n",
    "X_validation = np.pad(X_validation, ((0,0),(2,2),(2,2),(0,0)), 'constant')\n",
    "X_test       = np.pad(X_test, ((0,0),(2,2),(2,2),(0,0)), 'constant')\n",
    "    \n",
    "print(\"Updated Image Shape: {}\".format(X_train[0].shape))"
   ]
  },
  {
   "cell_type": "markdown",
   "metadata": {},
   "source": [
    "## Visualize Data\n",
    "\n",
    "View a sample from the dataset.\n",
    "\n",
    "You do not need to modify this section."
   ]
  },
  {
   "cell_type": "code",
   "execution_count": 13,
   "metadata": {
    "collapsed": false
   },
   "outputs": [
    {
     "name": "stdout",
     "output_type": "stream",
     "text": [
      "7\n"
     ]
    },
    {
     "data": {
      "image/png": "[encoded data removed]",
      "text/plain": [
       "<matplotlib.figure.Figure at 0x12fdcc550>"
      ]
     },
     "metadata": {},
     "output_type": "display_data"
    }
   ],
   "source": [
    "import random\n",
    "import numpy as np\n",
    "import matplotlib.pyplot as plt\n",
    "%matplotlib inline\n",
    "\n",
    "index = random.randint(0, len(X_train))\n",
    "image = X_train[index].squeeze()\n",
    "\n",
    "plt.figure(figsize=(1,1))\n",
    "plt.imshow(image, cmap=\"gray\")\n",
    "print(y_train[index])"
   ]
  },
  {
   "cell_type": "markdown",
   "metadata": {},
   "source": [
    "## Preprocess Data\n",
    "\n",
    "Shuffle the training data.\n",
    "\n",
    "You do not need to modify this section."
   ]
  },
  {
   "cell_type": "code",
   "execution_count": 14,
   "metadata": {
    "collapsed": false
   },
   "outputs": [],
   "source": [
    "from sklearn.utils import shuffle\n",
    "\n",
    "X_train, y_train = shuffle(X_train, y_train)"
   ]
  },
  {
   "cell_type": "markdown",
   "metadata": {},
   "source": [
    "## Setup TensorFlow\n",
    "The `EPOCH` and `BATCH_SIZE` values affect the training speed and model accuracy.\n",
    "\n",
    "You do not need to modify this section."
   ]
  },
  {
   "cell_type": "code",
   "execution_count": 15,
   "metadata": {
    "collapsed": true
   },
   "outputs": [],
   "source": [
    "import tensorflow as tf\n",
    "\n",
    "EPOCHS = 10\n",
    "BATCH_SIZE = 128"
   ]
  },
  {
   "cell_type": "markdown",
   "metadata": {},
   "source": [
    "## TODO: Implement LeNet-5\n",
    "Implement the [LeNet-5](http://yann.lecun.com/exdb/lenet/) neural network architecture.\n",
    "\n",
    "This is the only cell you need to edit.\n",
    "### Input\n",
    "The LeNet architecture accepts a 32x32xC image as input, where C is the number of color channels. Since MNIST images are grayscale, C is 1 in this case.\n",
    "\n",
    "### Architecture\n",
    "**Layer 1: Convolutional.** The output shape should be 28x28x6.\n",
    "\n",
    "**Activation.** Your choice of activation function.\n",
    "\n",
    "**Pooling.** The output shape should be 14x14x6.\n",
    "\n",
    "**Layer 2: Convolutional.** The output shape should be 10x10x16.\n",
    "\n",
    "**Activation.** Your choice of activation function.\n",
    "\n",
    "**Pooling.** The output shape should be 5x5x16.\n",
    "\n",
    "**Flatten.** Flatten the output shape of the final pooling layer such that it's 1D instead of 3D. The easiest way to do is by using `tf.contrib.layers.flatten`, which is already imported for you.\n",
    "\n",
    "**Layer 3: Fully Connected.** This should have 120 outputs.\n",
    "\n",
    "**Activation.** Your choice of activation function.\n",
    "\n",
    "**Layer 4: Fully Connected.** This should have 84 outputs.\n",
    "\n",
    "**Activation.** Your choice of activation function.\n",
    "\n",
    "**Layer 5: Fully Connected (Logits).** This should have 10 outputs.\n",
    "\n",
    "### Output\n",
    "Return the result of the 2nd fully connected layer."
   ]
  },
  {
   "cell_type": "code",
   "execution_count": 16,
   "metadata": {
    "collapsed": false
   },
   "outputs": [
    {
     "name": "stdout",
     "output_type": "stream",
     "text": [
      "Layer 1 (?, 28, 28, 6)\n",
      "Layer 2 (?, 14, 14, 6)\n",
      "Layer 3 (?, 10, 10, 16)\n",
      "Layer 5 (?, 5, 5, 16)\n",
      "Layer 6 (?, 400)\n",
      "Layer 0 (?, 28, 28, 6)\n",
      "Layer 1 (?, 28, 28, 6)\n",
      "Layer 2 (?, 14, 14, 6)\n",
      "Layer 3 (?, 10, 10, 16)\n",
      "Layer 4 (?, 10, 10, 16)\n",
      "Layer 5 (?, 5, 5, 16)\n",
      "Layer 6 (?, 400)\n",
      "Layer 7 (?, 120)\n",
      "Layer 8 (?, 84)\n",
      "Layer 9 (?, 10)\n"
     ]
    }
   ],
   "source": [
    "from tensorflow.contrib.layers import flatten\n",
    "\n",
    "def LeNet(x):    \n",
    "    # Arguments used for tf.truncated_normal, randomly defines variables for the weights and biases for each layer\n",
    "    mu = 0\n",
    "    sigma = 0.1\n",
    "    padding = 'VALID'\n",
    "    batch_size=1\n",
    "    \n",
    "    W = [None]*5 #weights\n",
    "    b = [None]*5 #bais\n",
    "    L = [None]*10 #layers\n",
    "    \n",
    "    # TODO: Layer 1: Convolutional. Input = 32x32x1. Output = 28x28x6.\n",
    "    # height, width, input_depth, output_depth\n",
    "    W[0] = tf.Variable(tf.truncated_normal((5, 5, 1, 6),mu,sigma))\n",
    "    b[0] = tf.Variable(tf.zeros(6))\n",
    "    L[0] = tf.nn.conv2d(x, W[0], [1, 1, 1, 1], padding) + b[0]\n",
    "    # TODO: Activation.\n",
    "    L[1] = tf.nn.relu(L[0])\n",
    "    print('Layer',1,L[1].get_shape())\n",
    "\n",
    "    # TODO: Pooling. Input = 28x28x6. Output = 14x14x6.\n",
    "    # batch_size, height, width, depth\n",
    "    ksize = [1, 2, 2, 1]\n",
    "    strides = [1, 2, 2, 1]\n",
    "    L[2] = tf.nn.max_pool(L[1], ksize, strides, padding)\n",
    "    print('Layer',2,L[2].get_shape())\n",
    "    \n",
    "    \n",
    "    # TODO: Layer 2: Convolutional. Input = 14x14x6. Output = 10x10x16.\n",
    "    # height, width, input_depth, output_depth\n",
    "    W[1] = tf.Variable(tf.truncated_normal((5, 5, 6, 16),mu,sigma))\n",
    "    b[1] = tf.Variable(tf.zeros(16))\n",
    "    L[3] = tf.nn.conv2d(L[2], W[1], [1, 1, 1, 1], padding) + b[1]\n",
    "    print('Layer',3,L[3].get_shape())\n",
    "    \n",
    "    # TODO: Activation.\n",
    "    L[4] = tf.nn.relu(L[3])\n",
    "\n",
    "\n",
    "    # TODO: Pooling. Input = 10x10x16. Output = 5x5x16.\n",
    "    # batch_size, height, width, depth\n",
    "    ksize = [1, 2, 2, 1]\n",
    "    strides = [1, 2, 2, 1]\n",
    "    L[5] = tf.nn.max_pool(L[4], ksize, strides, padding )\n",
    "    print('Layer',5,L[5].get_shape())\n",
    "\n",
    "    # TODO: Flatten. Input = 5x5x16. Output = 400.\n",
    "    L[6] = flatten(L[5])\n",
    "    print('Layer',6,L[6].get_shape())\n",
    "    \n",
    "    # TODO: Layer 3: Fully Connected. Input = 400. Output = 120.\n",
    "    # TODO: Activation.\n",
    "    W[2] = tf.Variable(tf.truncated_normal((400,120),mu,sigma))\n",
    "    b[2] = tf.Variable(tf.zeros(120))\n",
    "    L[7] = tf.nn.relu_layer(L[6],W[2],b[2])\n",
    "    \n",
    "    \n",
    "    # TODO: Layer 4: Fully Connected. Input = 120. Output = 84.\n",
    "    # TODO: Activation.\n",
    "    W[3] = tf.Variable(tf.truncated_normal((120,84),mu,sigma))\n",
    "    b[3] = tf.Variable(tf.zeros(84))\n",
    "    L[8] = tf.nn.relu_layer(L[7],W[3],b[3])\n",
    "    \n",
    "    # TODO: Layer 5: Fully Connected. Input = 84. Output = 10.\n",
    "    W[4] = tf.Variable(tf.truncated_normal((84,10),mu,sigma))\n",
    "    b[4] = tf.Variable(tf.zeros(10))\n",
    "    L[9] = tf.nn.bias_add(tf.matmul(L[8],W[4]),b[4])\n",
    "    \n",
    "    \n",
    "    for i in range(len(L)):\n",
    "        if L[i] is not None:\n",
    "            print('Layer',i,L[i].get_shape())\n",
    "    \n",
    "    return L[9]\n",
    "\n",
    "x = tf.placeholder(tf.float32, (None, 32, 32, 1))\n",
    "y = tf.placeholder(tf.int32, (None))\n",
    "one_hot_y = tf.one_hot(y, 10)\n",
    "\n",
    "rate = 0.001\n",
    "\n",
    "logits = LeNet(x)\n",
    "cross_entropy = tf.nn.softmax_cross_entropy_with_logits(logits=logits, labels=one_hot_y)\n",
    "loss_operation = tf.reduce_mean(cross_entropy)\n",
    "optimizer = tf.train.AdamOptimizer(learning_rate = rate)\n",
    "training_operation = optimizer.minimize(loss_operation)\n"
   ]
  },
  {
   "cell_type": "markdown",
   "metadata": {},
   "source": [
    "## Features and Labels\n",
    "Train LeNet to classify [MNIST](http://yann.lecun.com/exdb/mnist/) data.\n",
    "\n",
    "`x` is a placeholder for a batch of input images.\n",
    "`y` is a placeholder for a batch of output labels.\n",
    "\n",
    "You do not need to modify this section."
   ]
  },
  {
   "cell_type": "code",
   "execution_count": 17,
   "metadata": {
    "collapsed": false
   },
   "outputs": [],
   "source": [
    "x = tf.placeholder(tf.float32, (None, 32, 32, 1))\n",
    "y = tf.placeholder(tf.int32, (None))\n",
    "one_hot_y = tf.one_hot(y, 10)"
   ]
  },
  {
   "cell_type": "markdown",
   "metadata": {},
   "source": [
    "## Training Pipeline\n",
    "Create a training pipeline that uses the model to classify MNIST data.\n",
    "\n",
    "You do not need to modify this section."
   ]
  },
  {
   "cell_type": "code",
   "execution_count": 18,
   "metadata": {
    "collapsed": false
   },
   "outputs": [
    {
     "name": "stdout",
     "output_type": "stream",
     "text": [
      "Layer 1 (?, 28, 28, 6)\n",
      "Layer 2 (?, 14, 14, 6)\n",
      "Layer 3 (?, 10, 10, 16)\n",
      "Layer 5 (?, 5, 5, 16)\n",
      "Layer 6 (?, 400)\n",
      "Layer 0 (?, 28, 28, 6)\n",
      "Layer 1 (?, 28, 28, 6)\n",
      "Layer 2 (?, 14, 14, 6)\n",
      "Layer 3 (?, 10, 10, 16)\n",
      "Layer 4 (?, 10, 10, 16)\n",
      "Layer 5 (?, 5, 5, 16)\n",
      "Layer 6 (?, 400)\n",
      "Layer 7 (?, 120)\n",
      "Layer 8 (?, 84)\n",
      "Layer 9 (?, 10)\n"
     ]
    }
   ],
   "source": [
    "rate = 0.0001\n",
    "\n",
    "logits = LeNet(x)\n",
    "cross_entropy = tf.nn.softmax_cross_entropy_with_logits(logits=logits, labels=one_hot_y)\n",
    "loss_operation = tf.reduce_mean(cross_entropy)\n",
    "optimizer = tf.train.AdamOptimizer(learning_rate = rate)\n",
    "training_operation = optimizer.minimize(loss_operation)"
   ]
  },
  {
   "cell_type": "markdown",
   "metadata": {},
   "source": [
    "## Model Evaluation\n",
    "Evaluate how well the loss and accuracy of the model for a given dataset.\n",
    "\n",
    "You do not need to modify this section."
   ]
  },
  {
   "cell_type": "code",
   "execution_count": 19,
   "metadata": {
    "collapsed": true
   },
   "outputs": [],
   "source": [
    "correct_prediction = tf.equal(tf.argmax(logits, 1), tf.argmax(one_hot_y, 1))\n",
    "accuracy_operation = tf.reduce_mean(tf.cast(correct_prediction, tf.float32))\n",
    "saver = tf.train.Saver()\n",
    "\n",
    "def evaluate(X_data, y_data):\n",
    "    num_examples = len(X_data)\n",
    "    total_accuracy = 0\n",
    "    sess = tf.get_default_session()\n",
    "    for offset in range(0, num_examples, BATCH_SIZE):\n",
    "        batch_x, batch_y = X_data[offset:offset+BATCH_SIZE], y_data[offset:offset+BATCH_SIZE]\n",
    "        accuracy = sess.run(accuracy_operation, feed_dict={x: batch_x, y: batch_y})\n",
    "        total_accuracy += (accuracy * len(batch_x))\n",
    "    return total_accuracy / num_examples"
   ]
  },
  {
   "cell_type": "markdown",
   "metadata": {},
   "source": [
    "## Train the Model\n",
    "Run the training data through the training pipeline to train the model.\n",
    "\n",
    "Before each epoch, shuffle the training set.\n",
    "\n",
    "After each epoch, measure the loss and accuracy of the validation set.\n",
    "\n",
    "Save the model after training.\n",
    "\n",
    "You do not need to modify this section."
   ]
  },
  {
   "cell_type": "code",
   "execution_count": 20,
   "metadata": {
    "collapsed": false
   },
   "outputs": [
    {
     "name": "stdout",
     "output_type": "stream",
     "text": [
      "Training...\n",
      "\n",
      "EPOCH 1 ...\n",
      "Validation Accuracy = 0.895\n",
      "[10%] ETA: 17:20:06 ~235sec\n",
      "\n",
      "EPOCH 2 ...\n",
      "Validation Accuracy = 0.932\n",
      "[20%] ETA: 17:19:21 ~173sec\n",
      "\n",
      "EPOCH 3 ...\n",
      "Validation Accuracy = 0.946\n",
      "[30%] ETA: 17:19:05 ~140sec\n",
      "\n",
      "EPOCH 4 ...\n",
      "Validation Accuracy = 0.955\n",
      "[40%] ETA: 17:18:58 ~116sec\n",
      "\n",
      "EPOCH 5 ...\n",
      "Validation Accuracy = 0.964\n",
      "[50%] ETA: 17:18:53 ~94sec\n",
      "\n",
      "EPOCH 6 ...\n",
      "Validation Accuracy = 0.965\n",
      "[60%] ETA: 17:18:50 ~74sec\n",
      "\n",
      "EPOCH 7 ...\n",
      "Validation Accuracy = 0.971\n",
      "[70%] ETA: 17:18:48 ~55sec\n",
      "\n",
      "EPOCH 8 ...\n",
      "Validation Accuracy = 0.974\n",
      "[80%] ETA: 17:18:46 ~36sec\n",
      "\n",
      "EPOCH 9 ...\n",
      "Validation Accuracy = 0.975\n",
      "[90%] ETA: 17:18:45 ~18sec\n",
      "\n",
      "EPOCH 10 ...\n",
      "Validation Accuracy = 0.975\n",
      "[100%] ETA: 17:18:44 ~0sec\n",
      "\n",
      "Model saved\n",
      "Total: 182.17122983932495\n"
     ]
    }
   ],
   "source": [
    "import time, datetime\n",
    "\n",
    "last_acc = None\n",
    "acc = []\n",
    "delta_acc = []\n",
    "start = time.time()\n",
    "partial = 0\n",
    "with tf.Session() as sess:\n",
    "    sess.run(tf.global_variables_initializer())\n",
    "    num_examples = len(X_train)\n",
    "    \n",
    "    print(\"Training...\")\n",
    "    print()\n",
    "    for i in range(EPOCHS):\n",
    "        epoch_start = time.time()\n",
    "        X_train, y_train = shuffle(X_train, y_train)\n",
    "        for offset in range(0, num_examples, BATCH_SIZE):\n",
    "            end = offset + BATCH_SIZE\n",
    "            batch_x, batch_y = X_train[offset:end], y_train[offset:end]\n",
    "            sess.run(training_operation, feed_dict={x: batch_x, y: batch_y})\n",
    "        \n",
    "        validation_accuracy = evaluate(X_validation, y_validation)\n",
    "        if last_acc is not None:\n",
    "            last_acc\n",
    "        last_acc = acc\n",
    "        \n",
    "        acc.append(validation_accuracy)\n",
    "        print(\"EPOCH {} ...\".format(i+1))\n",
    "        print(\"Validation Accuracy = {:.3f}\".format(validation_accuracy))\n",
    "        \n",
    "        \n",
    "        \n",
    "        \n",
    "        epoch_partial = time.time() - epoch_start\n",
    "        partial += epoch_partial\n",
    "        avg = partial / (i + 1)\n",
    "        total_guess = avg * EPOCHS \n",
    "        eta = round(total_guess - partial)\n",
    "        eta_p = 100-(round((eta * 100) / total_guess))\n",
    "        finish_time = datetime.datetime.now() + datetime.timedelta(seconds=eta)\n",
    "        print(\"[%d%%] ETA: %s ~%ssec\" % ( eta_p,finish_time.strftime('%X'),eta ) )\n",
    "        print()\n",
    "        \n",
    "    saver.save(sess, './lenet')\n",
    "    print(\"Model saved\")\n",
    "\n",
    "print('Total:',time.time()-start)\n",
    "\n"
   ]
  },
  {
   "cell_type": "markdown",
   "metadata": {},
   "source": [
    "## Evaluate the Model\n",
    "Once you are completely satisfied with your model, evaluate the performance of the model on the test set.\n",
    "\n",
    "Be sure to only do this once!\n",
    "\n",
    "If you were to measure the performance of your trained model on the test set, then improve your model, and then measure the performance of your model on the test set again, that would invalidate your test results. You wouldn't get a true measure of how well your model would perform against real data.\n",
    "\n",
    "You do not need to modify this section."
   ]
  },
  {
   "cell_type": "code",
   "execution_count": 21,
   "metadata": {
    "collapsed": false
   },
   "outputs": [
    {
     "name": "stdout",
     "output_type": "stream",
     "text": [
      "Test Accuracy = 0.975\n"
     ]
    }
   ],
   "source": [
    "with tf.Session() as sess:\n",
    "    saver.restore(sess, tf.train.latest_checkpoint('.'))\n",
    "\n",
    "    test_accuracy = evaluate(X_test, y_test)\n",
    "    print(\"Test Accuracy = {:.3f}\".format(test_accuracy))"
   ]
  }
 ],
 "metadata": {
  "anaconda-cloud": {},
  "kernelspec": {
   "display_name": "Python 3",
   "language": "python",
   "name": "python3"
  },
  "language_info": {
   "codemirror_mode": {
    "name": "ipython",
    "version": 3
   },
   "file_extension": ".py",
   "mimetype": "text/x-python",
   "name": "python",
   "nbconvert_exporter": "python",
   "pygments_lexer": "ipython3",
   "version": "3.6.0"
  },
  "widgets": {
   "state": {},
   "version": "1.1.2"
  }
 },
 "nbformat": 4,
 "nbformat_minor": 0
}
