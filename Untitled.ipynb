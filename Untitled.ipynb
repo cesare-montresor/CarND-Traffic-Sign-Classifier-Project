{
 "cells": [
  {
   "cell_type": "code",
   "execution_count": null,
   "metadata": {
    "collapsed": false
   },
   "outputs": [],
   "source": [
    "%%javascript\n",
    "// https://jakevdp.github.io/blog/2013/06/01/ipython-notebook-javascript-python-communication/\n",
    "\n",
    "\n",
    "window.tools = {};\n",
    "window.tools.changeImage = function(id,url){\n",
    "    $(id).attr('src',url)\n",
    "};\n",
    "\n",
    "\n",
    "window.tools.appendHtml = function(id,html){\n",
    "    $(id).append(html)\n",
    "};\n"
   ]
  },
  {
   "cell_type": "code",
   "execution_count": null,
   "metadata": {
    "collapsed": false
   },
   "outputs": [],
   "source": [
    "\n",
    "css = '''\n",
    "<style>\n",
    "#cell_2_2{\n",
    "    color: darkyellow;\n",
    "}\n",
    "#mytable{\n",
    "    border: 3px solid green;\n",
    "}\n",
    "</style>\n",
    "'''\n"
   ]
  },
  {
   "cell_type": "code",
   "execution_count": null,
   "metadata": {
    "collapsed": false
   },
   "outputs": [],
   "source": [
    "'''\n",
    "newimageurl = \"http://www.lagazzelladellasera.it/wordpress/wp-content/uploads/2017/01/Ciao.jpg\"\n",
    "attr = {\n",
    "    'id':'myimage',\n",
    "    'onClick': htool.functionJS('window.tools.changeImage',[\"#myimage\", newimageurl])\n",
    "}\n",
    "\n",
    "htool.runDelayJS('window.tools.changeImage(\"myimage\", \"'+newimageurl+'\");',1000)\n",
    "htool.runFunctionJS('window.tools.changeImage',[\"myimage\", newimageurl],1000)\n",
    "print(htool.functionJS('window.tools.changeImage',[\"myimage\", newimageurl]))\n",
    "'''"
   ]
  },
  {
   "cell_type": "code",
   "execution_count": null,
   "metadata": {
    "collapsed": false
   },
   "outputs": [],
   "source": [
    "!echo $*"
   ]
  },
  {
   "cell_type": "code",
   "execution_count": null,
   "metadata": {
    "collapsed": false
   },
   "outputs": [],
   "source": [
    "% lsmagic"
   ]
  },
  {
   "cell_type": "code",
   "execution_count": null,
   "metadata": {
    "collapsed": false
   },
   "outputs": [],
   "source": [
    "import json\n",
    "a = json.dumps('3\"')\n",
    "print(a)"
   ]
  },
  {
   "cell_type": "code",
   "execution_count": null,
   "metadata": {
    "collapsed": false
   },
   "outputs": [],
   "source": [
    "from tensorflow.contrib.memory_stats.python.ops import memory_stats_ops\n",
    "\n",
    "with tf.Session() as sess:\n",
    "    bytes_limit = sess.run(memory_stats_ops.BytesLimit())\n",
    "\n"
   ]
  },
  {
   "cell_type": "code",
   "execution_count": null,
   "metadata": {
    "collapsed": false
   },
   "outputs": [],
   "source": [
    "a = {1:1}\n",
    "b = {2:2}\n",
    "c= a.update(b)\n",
    "print(a)"
   ]
  },
  {
   "cell_type": "code",
   "execution_count": null,
   "metadata": {
    "collapsed": false
   },
   "outputs": [],
   "source": []
  },
  {
   "cell_type": "code",
   "execution_count": null,
   "metadata": {
    "collapsed": false
   },
   "outputs": [],
   "source": [
    "row = [\n",
    "   [1,2],\n",
    "   [2,2],\n",
    "   [2]\n",
    "]\n",
    "\n",
    "for cell,attr=None in row:\n",
    "    print(cell,attr)"
   ]
  },
  {
   "cell_type": "code",
   "execution_count": null,
   "metadata": {
    "collapsed": true
   },
   "outputs": [],
   "source": [
    "a=0.1\n",
    "b=0.12\n",
    "c=12.1\n",
    "\n",
    "a = np.log10(b)\n",
    "np.log10(c)\n",
    "\n",
    "c - a = b / 100\n",
    "\n",
    "d = a + b * 100\n"
   ]
  },
  {
   "cell_type": "code",
   "execution_count": null,
   "metadata": {
    "collapsed": false
   },
   "outputs": [],
   "source": [
    "from IPython.core.display import display, HTML, Javascript\n",
    "import base64\n",
    "import numpy as np\n",
    "import cv2\n",
    "from io import StringIO\n",
    "\n",
    "Javascript('alert(1);')\n",
    "#Javascript('alert(2);')\n",
    "#Javascript('setTimeout(function(){alert(3)},1000)')"
   ]
  },
  {
   "cell_type": "code",
   "execution_count": null,
   "metadata": {
    "collapsed": false
   },
   "outputs": [],
   "source": [
    "a = [1,2,3]\n",
    "b = {}\n",
    "\n",
    "print(b)"
   ]
  },
  {
   "cell_type": "code",
   "execution_count": null,
   "metadata": {
    "collapsed": false
   },
   "outputs": [],
   "source": [
    "a = [\n",
    "    {'nome':'a','val':0.2},\n",
    "    {'nome':'b','val':0.1},\n",
    "    {'nome':'a','val':0.3},\n",
    "]\n",
    "\n",
    "b = sorted(a, key=lambda item: item['val'])\n",
    "print(b)"
   ]
  },
  {
   "cell_type": "code",
   "execution_count": null,
   "metadata": {
    "collapsed": false
   },
   "outputs": [],
   "source": [
    "from htmltoolkit import HtmlToolkit \n",
    "import numpy as np \n",
    "htk = HtmlToolkit()\n",
    "js = htk.js\n",
    "jQuery = htk.jQuery\n",
    "\n",
    "img = np.random.random((100, 100, 3)) #perhaps use a real image\n",
    "  \n",
    "elemId = 'embed-img'\n",
    "elemHtml = htk.embedImageArray(img,{'id':elemId})\n",
    "\n",
    "htk.printHTML(elemHtml)"
   ]
  },
  {
   "cell_type": "code",
   "execution_count": null,
   "metadata": {
    "collapsed": false
   },
   "outputs": [],
   "source": [
    "import numpy as np \n",
    "np.random.random((10, 10, 3))"
   ]
  },
  {
   "cell_type": "code",
   "execution_count": 2,
   "metadata": {
    "collapsed": false
   },
   "outputs": [
    {
     "name": "stdout",
     "output_type": "stream",
     "text": [
      "{'hyperparams': {'epochs': 40, 'batch_size': 64, 'rate': 0.001, 'rate_step': 0.1, 'rate_change_limit': 0.001, 'n_classes': 43, 'defaults': {'mu': 0, 'sigma': 0.1, 'dropout': 1.0}, 'model': [{'kind': 'conv', 'depth': 10, 'name': '0_conv'}, {'kind': 'conv', 'depth': 20, 'name': '1_conv'}, {'kind': 'pool', 'padding': 'VALID', 'name': '2_pool'}, {'kind': 'conv', 'depth': 40, 'padding': 'VALID', 'name': '3_conv'}, {'kind': 'conv', 'depth': 60, 'padding': 'VALID', 'name': '4_conv'}, {'kind': 'pool', 'padding': 'VALID', 'name': '5_pool'}, {'kind': 'conv', 'depth': 80, 'padding': 'VALID', 'name': '6_conv'}, {'kind': 'flat', 'name': '7_flat'}, {'kind': 'fc', 'size': 600, 'dropout': 0.5, 'name': '8_fc'}, {'kind': 'fc', 'size': 400, 'name': '9_fc'}, {'kind': 'fc', 'size': 200, 'name': '10_fc'}, {'kind': 'fc', 'size': 100, 'dropout': 0.5, 'name': '11_fc'}, {'kind': 'fc', 'size': 43, 'activation': False, 'name': '12_fc'}]}, 'info': {'epoch': 36, 'train_time': [37.60895395278931, 35.11570596694946, 38.03340005874634, 35.76690697669983, 39.37658071517944, 40.033695936203, 40.743016958236694, 38.26440095901489, 38.838252782821655, 39.04102182388306, 38.311866760253906, 40.98340678215027, 39.15605902671814, 41.91616201400757, 42.483314990997314, 42.042829751968384, 43.271075963974, 37.819201946258545, 44.66498303413391, 40.38001799583435, 38.872243881225586, 38.00532579421997, 37.686403036117554, 39.19588303565979, 43.0560622215271, 44.13769602775574, 44.636768102645874, 42.08936905860901, 40.81457304954529, 43.03517413139343, 43.490607023239136, 42.435529947280884, 39.85106682777405, 38.80487394332886, 41.360843896865845, 40.58527612686157, 40.696468114852905], 'validation_accuracy': [0.80975056613653962, 0.91179138297667039, 0.92290249460138163, 0.96190476193179353, 0.96054421693019043, 0.96507936432248065, 0.96575963694492439, 0.95986394584854717, 0.96439909297052151, 0.95306122448979591, 0.95668934267394401, 0.96984126989533304, 0.9551020400594421, 0.96689342300908099, 0.96303854826626589, 0.95850340144163892, 0.97437641723356005, 0.96848072562358278, 0.96938775510204078, 0.96666666666666667, 0.95986394506463113, 0.95442176846419868, 0.97664399092970522, 0.97709750566893427, 0.97709750566893427, 0.97709750566893427, 0.98095238095238091, 0.97959183673469385, 0.97981859437462426, 0.98004535147392291, 0.98027210884353744, 0.97981859410430838, 0.98185941043083902, 0.98072562358276649, 0.98140589569160996, 0.9791383219954648, 0.97868480674263569], 'history': {'time': [], 'accuracy': []}}}\n"
     ]
    }
   ],
   "source": [
    "import trafficsignutils as utils\n",
    "\n",
    "basedir = './checkpoints/'\n",
    "restore_name ='20170326-090427' #load old model \n",
    "res = utils.loadModelInfo(basedir,restore_name)\n",
    "print(res)"
   ]
  },
  {
   "cell_type": "code",
   "execution_count": null,
   "metadata": {
    "collapsed": true
   },
   "outputs": [],
   "source": []
  }
 ],
 "metadata": {
  "kernelspec": {
   "display_name": "Python 3",
   "language": "python",
   "name": "python3"
  },
  "language_info": {
   "codemirror_mode": {
    "name": "ipython",
    "version": 3
   },
   "file_extension": ".py",
   "mimetype": "text/x-python",
   "name": "python",
   "nbconvert_exporter": "python",
   "pygments_lexer": "ipython3",
   "version": "3.6.0"
  }
 },
 "nbformat": 4,
 "nbformat_minor": 2
}
